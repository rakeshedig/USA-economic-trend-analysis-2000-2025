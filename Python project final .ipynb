{
 "cells": [
  {
   "cell_type": "markdown",
   "id": "4811e769-cc87-474b-a1f8-261b48aaf21c",
   "metadata": {},
   "source": [
    "## Federal Funds Effective Rate (FEDFUNDS)\n",
    "### Access historical data on the federal funds rate, a key indicator of monetary policy."
   ]
  },
  {
   "cell_type": "code",
   "execution_count": 3,
   "id": "1ce965b7-fbd1-4eaf-97a9-8331e9053403",
   "metadata": {},
   "outputs": [
    {
     "data": {
      "text/html": [
       "<div>\n",
       "<style scoped>\n",
       "    .dataframe tbody tr th:only-of-type {\n",
       "        vertical-align: middle;\n",
       "    }\n",
       "\n",
       "    .dataframe tbody tr th {\n",
       "        vertical-align: top;\n",
       "    }\n",
       "\n",
       "    .dataframe thead th {\n",
       "        text-align: right;\n",
       "    }\n",
       "</style>\n",
       "<table border=\"1\" class=\"dataframe\">\n",
       "  <thead>\n",
       "    <tr style=\"text-align: right;\">\n",
       "      <th></th>\n",
       "      <th>observation_date</th>\n",
       "      <th>FEDFUNDS</th>\n",
       "    </tr>\n",
       "  </thead>\n",
       "  <tbody>\n",
       "    <tr>\n",
       "      <th>0</th>\n",
       "      <td>1/1/00</td>\n",
       "      <td>5.45</td>\n",
       "    </tr>\n",
       "    <tr>\n",
       "      <th>1</th>\n",
       "      <td>2/1/00</td>\n",
       "      <td>5.73</td>\n",
       "    </tr>\n",
       "    <tr>\n",
       "      <th>2</th>\n",
       "      <td>3/1/00</td>\n",
       "      <td>5.85</td>\n",
       "    </tr>\n",
       "    <tr>\n",
       "      <th>3</th>\n",
       "      <td>4/1/00</td>\n",
       "      <td>6.02</td>\n",
       "    </tr>\n",
       "    <tr>\n",
       "      <th>4</th>\n",
       "      <td>5/1/00</td>\n",
       "      <td>6.27</td>\n",
       "    </tr>\n",
       "  </tbody>\n",
       "</table>\n",
       "</div>"
      ],
      "text/plain": [
       "  observation_date  FEDFUNDS\n",
       "0           1/1/00      5.45\n",
       "1           2/1/00      5.73\n",
       "2           3/1/00      5.85\n",
       "3           4/1/00      6.02\n",
       "4           5/1/00      6.27"
      ]
     },
     "execution_count": 3,
     "metadata": {},
     "output_type": "execute_result"
    }
   ],
   "source": [
    "import pandas as pd\n",
    "\n",
    "df = pd.read_csv('/Users/rakeshgoudedigi/Desktop/Python FInal project /FED interest rates.csv')\n",
    "\n",
    "df.head()"
   ]
  },
  {
   "cell_type": "code",
   "execution_count": 4,
   "id": "bed701af-33fa-4f22-a76f-e7539c788401",
   "metadata": {},
   "outputs": [
    {
     "data": {
      "text/html": [
       "<div>\n",
       "<style scoped>\n",
       "    .dataframe tbody tr th:only-of-type {\n",
       "        vertical-align: middle;\n",
       "    }\n",
       "\n",
       "    .dataframe tbody tr th {\n",
       "        vertical-align: top;\n",
       "    }\n",
       "\n",
       "    .dataframe thead th {\n",
       "        text-align: right;\n",
       "    }\n",
       "</style>\n",
       "<table border=\"1\" class=\"dataframe\">\n",
       "  <thead>\n",
       "    <tr style=\"text-align: right;\">\n",
       "      <th></th>\n",
       "      <th>observation_date</th>\n",
       "      <th>FEDFUNDS_new</th>\n",
       "    </tr>\n",
       "  </thead>\n",
       "  <tbody>\n",
       "    <tr>\n",
       "      <th>0</th>\n",
       "      <td>1/1/00</td>\n",
       "      <td>5.5%</td>\n",
       "    </tr>\n",
       "    <tr>\n",
       "      <th>1</th>\n",
       "      <td>2/1/00</td>\n",
       "      <td>5.7%</td>\n",
       "    </tr>\n",
       "    <tr>\n",
       "      <th>2</th>\n",
       "      <td>3/1/00</td>\n",
       "      <td>5.8%</td>\n",
       "    </tr>\n",
       "    <tr>\n",
       "      <th>3</th>\n",
       "      <td>4/1/00</td>\n",
       "      <td>6.0%</td>\n",
       "    </tr>\n",
       "    <tr>\n",
       "      <th>4</th>\n",
       "      <td>5/1/00</td>\n",
       "      <td>6.3%</td>\n",
       "    </tr>\n",
       "  </tbody>\n",
       "</table>\n",
       "</div>"
      ],
      "text/plain": [
       "  observation_date FEDFUNDS_new\n",
       "0           1/1/00         5.5%\n",
       "1           2/1/00         5.7%\n",
       "2           3/1/00         5.8%\n",
       "3           4/1/00         6.0%\n",
       "4           5/1/00         6.3%"
      ]
     },
     "execution_count": 4,
     "metadata": {},
     "output_type": "execute_result"
    }
   ],
   "source": [
    "def format_to_new(value):\n",
    "    return f\"{value:.1f}%\"\n",
    "\n",
    "df['FEDFUNDS_new']=df['FEDFUNDS'].apply(format_to_new)\n",
    "\n",
    "#dropping the older fedfunds column\n",
    "df=df.drop(columns=['FEDFUNDS'])\n",
    "\n",
    "# to see the top 5 rows\n",
    "df.head()"
   ]
  },
  {
   "cell_type": "markdown",
   "id": "b4e1e736-497b-4b55-ba74-4a57c7c7ae37",
   "metadata": {},
   "source": [
    "## Consumer Spending - Personal Consumption Expenditures (PCE)\n",
    "### Monthly estimates of consumer spending on goods and services in the U.S."
   ]
  },
  {
   "cell_type": "code",
   "execution_count": 5,
   "id": "76048ec0-e836-46e3-bf70-34c4bfbd6604",
   "metadata": {},
   "outputs": [
    {
     "data": {
      "text/html": [
       "<div>\n",
       "<style scoped>\n",
       "    .dataframe tbody tr th:only-of-type {\n",
       "        vertical-align: middle;\n",
       "    }\n",
       "\n",
       "    .dataframe tbody tr th {\n",
       "        vertical-align: top;\n",
       "    }\n",
       "\n",
       "    .dataframe thead th {\n",
       "        text-align: right;\n",
       "    }\n",
       "</style>\n",
       "<table border=\"1\" class=\"dataframe\">\n",
       "  <thead>\n",
       "    <tr style=\"text-align: right;\">\n",
       "      <th></th>\n",
       "      <th>observation_date</th>\n",
       "      <th>PCE</th>\n",
       "    </tr>\n",
       "  </thead>\n",
       "  <tbody>\n",
       "    <tr>\n",
       "      <th>0</th>\n",
       "      <td>2000-01-01</td>\n",
       "      <td>6542.9</td>\n",
       "    </tr>\n",
       "    <tr>\n",
       "      <th>1</th>\n",
       "      <td>2000-02-01</td>\n",
       "      <td>6625.3</td>\n",
       "    </tr>\n",
       "    <tr>\n",
       "      <th>2</th>\n",
       "      <td>2000-03-01</td>\n",
       "      <td>6686.5</td>\n",
       "    </tr>\n",
       "    <tr>\n",
       "      <th>3</th>\n",
       "      <td>2000-04-01</td>\n",
       "      <td>6679.1</td>\n",
       "    </tr>\n",
       "    <tr>\n",
       "      <th>4</th>\n",
       "      <td>2000-05-01</td>\n",
       "      <td>6709.7</td>\n",
       "    </tr>\n",
       "  </tbody>\n",
       "</table>\n",
       "</div>"
      ],
      "text/plain": [
       "  observation_date     PCE\n",
       "0       2000-01-01  6542.9\n",
       "1       2000-02-01  6625.3\n",
       "2       2000-03-01  6686.5\n",
       "3       2000-04-01  6679.1\n",
       "4       2000-05-01  6709.7"
      ]
     },
     "execution_count": 5,
     "metadata": {},
     "output_type": "execute_result"
    }
   ],
   "source": [
    "df1=pd.read_csv('/Users/rakeshgoudedigi/Desktop/Python FInal project /Personal Consumption expenditures.csv')\n",
    "\n",
    "df1.head()"
   ]
  },
  {
   "cell_type": "markdown",
   "id": "73947d18-a5c0-47ed-90a0-36ddb495a9dd",
   "metadata": {},
   "source": [
    "### Formating PCE(Personal Consumption Expenditures values into human-Readable Labels"
   ]
  },
  {
   "cell_type": "code",
   "execution_count": 6,
   "id": "72e94f44-8a84-4e83-aba9-a94e08f8a747",
   "metadata": {},
   "outputs": [
    {
     "data": {
      "text/html": [
       "<div>\n",
       "<style scoped>\n",
       "    .dataframe tbody tr th:only-of-type {\n",
       "        vertical-align: middle;\n",
       "    }\n",
       "\n",
       "    .dataframe tbody tr th {\n",
       "        vertical-align: top;\n",
       "    }\n",
       "\n",
       "    .dataframe thead th {\n",
       "        text-align: right;\n",
       "    }\n",
       "</style>\n",
       "<table border=\"1\" class=\"dataframe\">\n",
       "  <thead>\n",
       "    <tr style=\"text-align: right;\">\n",
       "      <th></th>\n",
       "      <th>observation_date</th>\n",
       "      <th>PCE_readable</th>\n",
       "    </tr>\n",
       "  </thead>\n",
       "  <tbody>\n",
       "    <tr>\n",
       "      <th>0</th>\n",
       "      <td>2000-01-01</td>\n",
       "      <td>$6.5 trillion</td>\n",
       "    </tr>\n",
       "    <tr>\n",
       "      <th>1</th>\n",
       "      <td>2000-02-01</td>\n",
       "      <td>$6.6 trillion</td>\n",
       "    </tr>\n",
       "    <tr>\n",
       "      <th>2</th>\n",
       "      <td>2000-03-01</td>\n",
       "      <td>$6.7 trillion</td>\n",
       "    </tr>\n",
       "    <tr>\n",
       "      <th>3</th>\n",
       "      <td>2000-04-01</td>\n",
       "      <td>$6.7 trillion</td>\n",
       "    </tr>\n",
       "    <tr>\n",
       "      <th>4</th>\n",
       "      <td>2000-05-01</td>\n",
       "      <td>$6.7 trillion</td>\n",
       "    </tr>\n",
       "  </tbody>\n",
       "</table>\n",
       "</div>"
      ],
      "text/plain": [
       "  observation_date   PCE_readable\n",
       "0       2000-01-01  $6.5 trillion\n",
       "1       2000-02-01  $6.6 trillion\n",
       "2       2000-03-01  $6.7 trillion\n",
       "3       2000-04-01  $6.7 trillion\n",
       "4       2000-05-01  $6.7 trillion"
      ]
     },
     "execution_count": 6,
     "metadata": {},
     "output_type": "execute_result"
    }
   ],
   "source": [
    "def format_to_trillions(value):\n",
    "    return f\"${value/1000:.1f} trillion\"\n",
    "\n",
    "df1['PCE_readable']=df1['PCE'].apply(format_to_trillions)\n",
    "\n",
    "#dropping the PCE column \n",
    "df1=df1.drop(columns=['PCE'])\n",
    "\n",
    "#reading the first five rows \n",
    "df1.head()"
   ]
  },
  {
   "cell_type": "markdown",
   "id": "e6417a2b-b0aa-4f1a-ad17-c9260fdb975b",
   "metadata": {},
   "source": [
    "### Loan Defaults Dataset "
   ]
  },
  {
   "cell_type": "code",
   "execution_count": 7,
   "id": "f64017b3-4af7-4ce8-aaf1-59982972b82c",
   "metadata": {},
   "outputs": [
    {
     "data": {
      "text/html": [
       "<div>\n",
       "<style scoped>\n",
       "    .dataframe tbody tr th:only-of-type {\n",
       "        vertical-align: middle;\n",
       "    }\n",
       "\n",
       "    .dataframe tbody tr th {\n",
       "        vertical-align: top;\n",
       "    }\n",
       "\n",
       "    .dataframe thead th {\n",
       "        text-align: right;\n",
       "    }\n",
       "</style>\n",
       "<table border=\"1\" class=\"dataframe\">\n",
       "  <thead>\n",
       "    <tr style=\"text-align: right;\">\n",
       "      <th></th>\n",
       "      <th>observation_date</th>\n",
       "      <th>DRALACBN</th>\n",
       "    </tr>\n",
       "  </thead>\n",
       "  <tbody>\n",
       "    <tr>\n",
       "      <th>0</th>\n",
       "      <td>2000-01-01</td>\n",
       "      <td>2.11</td>\n",
       "    </tr>\n",
       "    <tr>\n",
       "      <th>1</th>\n",
       "      <td>2000-04-01</td>\n",
       "      <td>2.08</td>\n",
       "    </tr>\n",
       "    <tr>\n",
       "      <th>2</th>\n",
       "      <td>2000-07-01</td>\n",
       "      <td>2.19</td>\n",
       "    </tr>\n",
       "    <tr>\n",
       "      <th>3</th>\n",
       "      <td>2000-10-01</td>\n",
       "      <td>2.40</td>\n",
       "    </tr>\n",
       "    <tr>\n",
       "      <th>4</th>\n",
       "      <td>2001-01-01</td>\n",
       "      <td>2.44</td>\n",
       "    </tr>\n",
       "  </tbody>\n",
       "</table>\n",
       "</div>"
      ],
      "text/plain": [
       "  observation_date  DRALACBN\n",
       "0       2000-01-01      2.11\n",
       "1       2000-04-01      2.08\n",
       "2       2000-07-01      2.19\n",
       "3       2000-10-01      2.40\n",
       "4       2001-01-01      2.44"
      ]
     },
     "execution_count": 7,
     "metadata": {},
     "output_type": "execute_result"
    }
   ],
   "source": [
    "df2=pd.read_csv('/Users/rakeshgoudedigi/Desktop/Python FInal project /loan defaults.csv')\n",
    "\n",
    "df2.head()"
   ]
  },
  {
   "cell_type": "code",
   "execution_count": 8,
   "id": "8f61dab0-eeec-4df5-9641-f520db6fab8d",
   "metadata": {},
   "outputs": [
    {
     "data": {
      "text/html": [
       "<div>\n",
       "<style scoped>\n",
       "    .dataframe tbody tr th:only-of-type {\n",
       "        vertical-align: middle;\n",
       "    }\n",
       "\n",
       "    .dataframe tbody tr th {\n",
       "        vertical-align: top;\n",
       "    }\n",
       "\n",
       "    .dataframe thead th {\n",
       "        text-align: right;\n",
       "    }\n",
       "</style>\n",
       "<table border=\"1\" class=\"dataframe\">\n",
       "  <thead>\n",
       "    <tr style=\"text-align: right;\">\n",
       "      <th></th>\n",
       "      <th>observation_date</th>\n",
       "      <th>Loan Default Rate</th>\n",
       "    </tr>\n",
       "  </thead>\n",
       "  <tbody>\n",
       "    <tr>\n",
       "      <th>0</th>\n",
       "      <td>2000-01-01</td>\n",
       "      <td>2.1%</td>\n",
       "    </tr>\n",
       "    <tr>\n",
       "      <th>1</th>\n",
       "      <td>2000-04-01</td>\n",
       "      <td>2.1%</td>\n",
       "    </tr>\n",
       "    <tr>\n",
       "      <th>2</th>\n",
       "      <td>2000-07-01</td>\n",
       "      <td>2.2%</td>\n",
       "    </tr>\n",
       "    <tr>\n",
       "      <th>3</th>\n",
       "      <td>2000-10-01</td>\n",
       "      <td>2.4%</td>\n",
       "    </tr>\n",
       "    <tr>\n",
       "      <th>4</th>\n",
       "      <td>2001-01-01</td>\n",
       "      <td>2.4%</td>\n",
       "    </tr>\n",
       "  </tbody>\n",
       "</table>\n",
       "</div>"
      ],
      "text/plain": [
       "  observation_date Loan Default Rate\n",
       "0       2000-01-01              2.1%\n",
       "1       2000-04-01              2.1%\n",
       "2       2000-07-01              2.2%\n",
       "3       2000-10-01              2.4%\n",
       "4       2001-01-01              2.4%"
      ]
     },
     "execution_count": 8,
     "metadata": {},
     "output_type": "execute_result"
    }
   ],
   "source": [
    "def format_to_new(value):\n",
    "    return f\"{value:.1f}%\"\n",
    "\n",
    "df2['Loan Default Rate']=df2['DRALACBN'].apply(format_to_new)\n",
    "\n",
    "#dropping off the older column\n",
    "df2 = df2.drop(columns=['DRALACBN'])\n",
    "\n",
    "#to see the top 5 rows\n",
    "df2.head()"
   ]
  },
  {
   "cell_type": "code",
   "execution_count": 31,
   "id": "ce0155e7-47ed-44be-a8f9-c5ab0945bd54",
   "metadata": {},
   "outputs": [
    {
     "data": {
      "text/plain": [
       "observation_date     object\n",
       "Loan Default Rate    object\n",
       "dtype: object"
      ]
     },
     "execution_count": 31,
     "metadata": {},
     "output_type": "execute_result"
    }
   ],
   "source": [
    "df2.dtypes"
   ]
  },
  {
   "cell_type": "code",
   "execution_count": 9,
   "id": "ac0b6e16-a1e9-42af-8931-93a676b7d40c",
   "metadata": {},
   "outputs": [
    {
     "name": "stderr",
     "output_type": "stream",
     "text": [
      "/var/folders/4c/p7vprm9d6pq9cy5g9c7zn0xh0000gn/T/ipykernel_1306/2926969849.py:3: UserWarning: Could not infer format, so each element will be parsed individually, falling back to `dateutil`. To ensure parsing is consistent and as-expected, please specify a format.\n",
      "  df['observation_date']=pd.to_datetime(df['observation_date'])\n"
     ]
    }
   ],
   "source": [
    "df2['observation_date']= pd.to_datetime(df2['observation_date'])\n",
    "df1['observation_date']=pd.to_datetime(df1['observation_date'])\n",
    "df['observation_date']=pd.to_datetime(df['observation_date'])"
   ]
  },
  {
   "cell_type": "code",
   "execution_count": 41,
   "id": "da584776-ed22-4b85-9bd8-84ef06de79a9",
   "metadata": {},
   "outputs": [
    {
     "data": {
      "text/plain": [
       "observation_date    datetime64[ns]\n",
       "FEDFUNDS_new                object\n",
       "dtype: object"
      ]
     },
     "execution_count": 41,
     "metadata": {},
     "output_type": "execute_result"
    }
   ],
   "source": [
    "df.dtypes"
   ]
  },
  {
   "cell_type": "markdown",
   "id": "052130c9-d876-4d5c-bde8-c7ee6839408a",
   "metadata": {},
   "source": [
    "### Merging the FEDFUNDS and PCE datasets on observation_date"
   ]
  },
  {
   "cell_type": "code",
   "execution_count": 10,
   "id": "bcf333e5-4693-4a50-a939-e7657ffac22a",
   "metadata": {},
   "outputs": [
    {
     "data": {
      "text/html": [
       "<div>\n",
       "<style scoped>\n",
       "    .dataframe tbody tr th:only-of-type {\n",
       "        vertical-align: middle;\n",
       "    }\n",
       "\n",
       "    .dataframe tbody tr th {\n",
       "        vertical-align: top;\n",
       "    }\n",
       "\n",
       "    .dataframe thead th {\n",
       "        text-align: right;\n",
       "    }\n",
       "</style>\n",
       "<table border=\"1\" class=\"dataframe\">\n",
       "  <thead>\n",
       "    <tr style=\"text-align: right;\">\n",
       "      <th></th>\n",
       "      <th>observation_date</th>\n",
       "      <th>FEDFUNDS_new</th>\n",
       "      <th>PCE_readable</th>\n",
       "    </tr>\n",
       "  </thead>\n",
       "  <tbody>\n",
       "    <tr>\n",
       "      <th>0</th>\n",
       "      <td>2000-01-01</td>\n",
       "      <td>5.5%</td>\n",
       "      <td>$6.5 trillion</td>\n",
       "    </tr>\n",
       "    <tr>\n",
       "      <th>1</th>\n",
       "      <td>2000-02-01</td>\n",
       "      <td>5.7%</td>\n",
       "      <td>$6.6 trillion</td>\n",
       "    </tr>\n",
       "    <tr>\n",
       "      <th>2</th>\n",
       "      <td>2000-03-01</td>\n",
       "      <td>5.8%</td>\n",
       "      <td>$6.7 trillion</td>\n",
       "    </tr>\n",
       "    <tr>\n",
       "      <th>3</th>\n",
       "      <td>2000-04-01</td>\n",
       "      <td>6.0%</td>\n",
       "      <td>$6.7 trillion</td>\n",
       "    </tr>\n",
       "    <tr>\n",
       "      <th>4</th>\n",
       "      <td>2000-05-01</td>\n",
       "      <td>6.3%</td>\n",
       "      <td>$6.7 trillion</td>\n",
       "    </tr>\n",
       "  </tbody>\n",
       "</table>\n",
       "</div>"
      ],
      "text/plain": [
       "  observation_date FEDFUNDS_new   PCE_readable\n",
       "0       2000-01-01         5.5%  $6.5 trillion\n",
       "1       2000-02-01         5.7%  $6.6 trillion\n",
       "2       2000-03-01         5.8%  $6.7 trillion\n",
       "3       2000-04-01         6.0%  $6.7 trillion\n",
       "4       2000-05-01         6.3%  $6.7 trillion"
      ]
     },
     "execution_count": 10,
     "metadata": {},
     "output_type": "execute_result"
    }
   ],
   "source": [
    "merged_df=pd.merge(df,df1,on='observation_date',how='inner')\n",
    "\n",
    "merged_df.head()"
   ]
  },
  {
   "cell_type": "markdown",
   "id": "6d9af2d8-e891-49df-b4d6-a726c5947142",
   "metadata": {},
   "source": [
    "### Extracting the year from observation_date"
   ]
  },
  {
   "cell_type": "code",
   "execution_count": 11,
   "id": "85fde96a-b586-4193-8453-de2af25c7214",
   "metadata": {},
   "outputs": [
    {
     "data": {
      "text/html": [
       "<div>\n",
       "<style scoped>\n",
       "    .dataframe tbody tr th:only-of-type {\n",
       "        vertical-align: middle;\n",
       "    }\n",
       "\n",
       "    .dataframe tbody tr th {\n",
       "        vertical-align: top;\n",
       "    }\n",
       "\n",
       "    .dataframe thead th {\n",
       "        text-align: right;\n",
       "    }\n",
       "</style>\n",
       "<table border=\"1\" class=\"dataframe\">\n",
       "  <thead>\n",
       "    <tr style=\"text-align: right;\">\n",
       "      <th></th>\n",
       "      <th>observation_date</th>\n",
       "      <th>FEDFUNDS_new</th>\n",
       "      <th>PCE_readable</th>\n",
       "      <th>Year</th>\n",
       "    </tr>\n",
       "  </thead>\n",
       "  <tbody>\n",
       "    <tr>\n",
       "      <th>0</th>\n",
       "      <td>2000-01-01</td>\n",
       "      <td>5.5%</td>\n",
       "      <td>$6.5 trillion</td>\n",
       "      <td>2000</td>\n",
       "    </tr>\n",
       "    <tr>\n",
       "      <th>1</th>\n",
       "      <td>2000-02-01</td>\n",
       "      <td>5.7%</td>\n",
       "      <td>$6.6 trillion</td>\n",
       "      <td>2000</td>\n",
       "    </tr>\n",
       "    <tr>\n",
       "      <th>2</th>\n",
       "      <td>2000-03-01</td>\n",
       "      <td>5.8%</td>\n",
       "      <td>$6.7 trillion</td>\n",
       "      <td>2000</td>\n",
       "    </tr>\n",
       "    <tr>\n",
       "      <th>3</th>\n",
       "      <td>2000-04-01</td>\n",
       "      <td>6.0%</td>\n",
       "      <td>$6.7 trillion</td>\n",
       "      <td>2000</td>\n",
       "    </tr>\n",
       "    <tr>\n",
       "      <th>4</th>\n",
       "      <td>2000-05-01</td>\n",
       "      <td>6.3%</td>\n",
       "      <td>$6.7 trillion</td>\n",
       "      <td>2000</td>\n",
       "    </tr>\n",
       "  </tbody>\n",
       "</table>\n",
       "</div>"
      ],
      "text/plain": [
       "  observation_date FEDFUNDS_new   PCE_readable  Year\n",
       "0       2000-01-01         5.5%  $6.5 trillion  2000\n",
       "1       2000-02-01         5.7%  $6.6 trillion  2000\n",
       "2       2000-03-01         5.8%  $6.7 trillion  2000\n",
       "3       2000-04-01         6.0%  $6.7 trillion  2000\n",
       "4       2000-05-01         6.3%  $6.7 trillion  2000"
      ]
     },
     "execution_count": 11,
     "metadata": {},
     "output_type": "execute_result"
    }
   ],
   "source": [
    "merged_df['Year']=merged_df['observation_date'].dt.year\n",
    "\n",
    "merged_df.head()"
   ]
  },
  {
   "cell_type": "markdown",
   "id": "24409e4c-95e6-47a7-8842-5f08ecb52eff",
   "metadata": {},
   "source": [
    "### Computing the average interest rate and average PCE for each year to understand the yearly trend"
   ]
  },
  {
   "cell_type": "code",
   "execution_count": 13,
   "id": "c6f1aad2-0f9d-4b5f-a2f8-25d6e2b10fc3",
   "metadata": {},
   "outputs": [],
   "source": [
    "# first, we will convert the readable columns back to numeric \n",
    "merged_df['Interest Rate (%)']=merged_df['FEDFUNDS_new'].str.rstrip('%').astype(float)\n",
    "merged_df['PCE ($ Trillions)']=merged_df['PCE_readable'].str.extract(r'\\$(\\d+\\.\\d+)').astype(float)\n",
    "\n",
    "#grouping by year and caluculate the mean.\n",
    "yearly_avg=merged_df.groupby('Year')[['Interest Rate (%)','PCE ($ Trillions)']].mean().reset_index()"
   ]
  },
  {
   "cell_type": "code",
   "execution_count": 14,
   "id": "a9abd52f-b088-40e4-b8a2-bb7649361cb3",
   "metadata": {},
   "outputs": [
    {
     "data": {
      "text/html": [
       "<div>\n",
       "<style scoped>\n",
       "    .dataframe tbody tr th:only-of-type {\n",
       "        vertical-align: middle;\n",
       "    }\n",
       "\n",
       "    .dataframe tbody tr th {\n",
       "        vertical-align: top;\n",
       "    }\n",
       "\n",
       "    .dataframe thead th {\n",
       "        text-align: right;\n",
       "    }\n",
       "</style>\n",
       "<table border=\"1\" class=\"dataframe\">\n",
       "  <thead>\n",
       "    <tr style=\"text-align: right;\">\n",
       "      <th></th>\n",
       "      <th>observation_date</th>\n",
       "      <th>FEDFUNDS_new</th>\n",
       "      <th>PCE_readable</th>\n",
       "      <th>Year</th>\n",
       "      <th>Interest Rate (%)</th>\n",
       "      <th>PCE ($ Trillions)</th>\n",
       "    </tr>\n",
       "  </thead>\n",
       "  <tbody>\n",
       "    <tr>\n",
       "      <th>0</th>\n",
       "      <td>2000-01-01</td>\n",
       "      <td>5.5%</td>\n",
       "      <td>$6.5 trillion</td>\n",
       "      <td>2000</td>\n",
       "      <td>5.5</td>\n",
       "      <td>6.5</td>\n",
       "    </tr>\n",
       "    <tr>\n",
       "      <th>1</th>\n",
       "      <td>2000-02-01</td>\n",
       "      <td>5.7%</td>\n",
       "      <td>$6.6 trillion</td>\n",
       "      <td>2000</td>\n",
       "      <td>5.7</td>\n",
       "      <td>6.6</td>\n",
       "    </tr>\n",
       "    <tr>\n",
       "      <th>2</th>\n",
       "      <td>2000-03-01</td>\n",
       "      <td>5.8%</td>\n",
       "      <td>$6.7 trillion</td>\n",
       "      <td>2000</td>\n",
       "      <td>5.8</td>\n",
       "      <td>6.7</td>\n",
       "    </tr>\n",
       "    <tr>\n",
       "      <th>3</th>\n",
       "      <td>2000-04-01</td>\n",
       "      <td>6.0%</td>\n",
       "      <td>$6.7 trillion</td>\n",
       "      <td>2000</td>\n",
       "      <td>6.0</td>\n",
       "      <td>6.7</td>\n",
       "    </tr>\n",
       "    <tr>\n",
       "      <th>4</th>\n",
       "      <td>2000-05-01</td>\n",
       "      <td>6.3%</td>\n",
       "      <td>$6.7 trillion</td>\n",
       "      <td>2000</td>\n",
       "      <td>6.3</td>\n",
       "      <td>6.7</td>\n",
       "    </tr>\n",
       "  </tbody>\n",
       "</table>\n",
       "</div>"
      ],
      "text/plain": [
       "  observation_date FEDFUNDS_new   PCE_readable  Year  Interest Rate (%)  \\\n",
       "0       2000-01-01         5.5%  $6.5 trillion  2000                5.5   \n",
       "1       2000-02-01         5.7%  $6.6 trillion  2000                5.7   \n",
       "2       2000-03-01         5.8%  $6.7 trillion  2000                5.8   \n",
       "3       2000-04-01         6.0%  $6.7 trillion  2000                6.0   \n",
       "4       2000-05-01         6.3%  $6.7 trillion  2000                6.3   \n",
       "\n",
       "   PCE ($ Trillions)  \n",
       "0                6.5  \n",
       "1                6.6  \n",
       "2                6.7  \n",
       "3                6.7  \n",
       "4                6.7  "
      ]
     },
     "execution_count": 14,
     "metadata": {},
     "output_type": "execute_result"
    }
   ],
   "source": [
    "merged_df.head()"
   ]
  },
  {
   "cell_type": "code",
   "execution_count": 15,
   "id": "7a0c882b-cbf2-4748-8c78-ad85b555b70d",
   "metadata": {},
   "outputs": [
    {
     "data": {
      "text/html": [
       "<div>\n",
       "<style scoped>\n",
       "    .dataframe tbody tr th:only-of-type {\n",
       "        vertical-align: middle;\n",
       "    }\n",
       "\n",
       "    .dataframe tbody tr th {\n",
       "        vertical-align: top;\n",
       "    }\n",
       "\n",
       "    .dataframe thead th {\n",
       "        text-align: right;\n",
       "    }\n",
       "</style>\n",
       "<table border=\"1\" class=\"dataframe\">\n",
       "  <thead>\n",
       "    <tr style=\"text-align: right;\">\n",
       "      <th></th>\n",
       "      <th>Year</th>\n",
       "      <th>Interest Rate (%)</th>\n",
       "      <th>PCE ($ Trillions)</th>\n",
       "    </tr>\n",
       "  </thead>\n",
       "  <tbody>\n",
       "    <tr>\n",
       "      <th>0</th>\n",
       "      <td>2000</td>\n",
       "      <td>6.225000</td>\n",
       "      <td>6.766667</td>\n",
       "    </tr>\n",
       "    <tr>\n",
       "      <th>1</th>\n",
       "      <td>2001</td>\n",
       "      <td>3.891667</td>\n",
       "      <td>7.083333</td>\n",
       "    </tr>\n",
       "    <tr>\n",
       "      <th>2</th>\n",
       "      <td>2002</td>\n",
       "      <td>1.666667</td>\n",
       "      <td>7.341667</td>\n",
       "    </tr>\n",
       "    <tr>\n",
       "      <th>3</th>\n",
       "      <td>2003</td>\n",
       "      <td>1.125000</td>\n",
       "      <td>7.750000</td>\n",
       "    </tr>\n",
       "    <tr>\n",
       "      <th>4</th>\n",
       "      <td>2004</td>\n",
       "      <td>1.350000</td>\n",
       "      <td>8.225000</td>\n",
       "    </tr>\n",
       "  </tbody>\n",
       "</table>\n",
       "</div>"
      ],
      "text/plain": [
       "   Year  Interest Rate (%)  PCE ($ Trillions)\n",
       "0  2000           6.225000           6.766667\n",
       "1  2001           3.891667           7.083333\n",
       "2  2002           1.666667           7.341667\n",
       "3  2003           1.125000           7.750000\n",
       "4  2004           1.350000           8.225000"
      ]
     },
     "execution_count": 15,
     "metadata": {},
     "output_type": "execute_result"
    }
   ],
   "source": [
    "yearly_avg.head()"
   ]
  },
  {
   "cell_type": "markdown",
   "id": "73f2692a-904b-4996-8d52-f4b1eb1f1284",
   "metadata": {},
   "source": [
    "### Visualizing the trend between interest rate and consumer spending(PCE)"
   ]
  },
  {
   "cell_type": "code",
   "execution_count": 25,
   "id": "96c59441-a3fb-48e5-b450-c3c7420e4583",
   "metadata": {},
   "outputs": [
    {
     "data": {
      "image/png": "[encoded data removed]",
      "text/plain": [
       "<Figure size 1400x600 with 2 Axes>"
      ]
     },
     "metadata": {},
     "output_type": "display_data"
    }
   ],
   "source": [
    "fig, ax1 = plt.subplots(figsize=(14, 6))\n",
    "\n",
    "# Left Y-axis for Interest Rate\n",
    "color = 'tab:blue'\n",
    "ax1.set_xlabel('Year')\n",
    "ax1.set_ylabel('Interest Rate (%)', color=color)\n",
    "l1, = ax1.plot(yearly_avg['Year'], yearly_avg['Interest Rate (%)'], color=color, marker='o', label='Interest Rate (%)')\n",
    "ax1.tick_params(axis='y', labelcolor=color)\n",
    "\n",
    "# Bold and larger labels every 2nd year for Interest Rate\n",
    "for i in range(0, len(yearly_avg), 2):\n",
    "    val = yearly_avg['Interest Rate (%)'].iloc[i]\n",
    "    year = yearly_avg['Year'].iloc[i]\n",
    "    ax1.text(year, val + 0.4, f\"{val:.1f}%\", color=color, fontsize=10, fontweight='bold', ha='center')\n",
    "\n",
    "# Right Y-axis for PCE\n",
    "ax2 = ax1.twinx()\n",
    "color = 'tab:orange'\n",
    "ax2.set_ylabel('PCE ($ Trillions)', color=color)\n",
    "l2, = ax2.plot(yearly_avg['Year'], yearly_avg['PCE ($ Trillions)'], color=color, marker='s', label='PCE ($ Trillions)')\n",
    "ax2.tick_params(axis='y', labelcolor=color)\n",
    "\n",
    "# Bold and larger labels every 2nd year for PCE\n",
    "for i in range(0, len(yearly_avg), 2):\n",
    "    val = yearly_avg['PCE ($ Trillions)'].iloc[i]\n",
    "    year = yearly_avg['Year'].iloc[i]\n",
    "    ax2.text(year, val + 0.4, f\"${val:.1f}T\", color=color, fontsize=10, fontweight='bold', ha='center')\n",
    "\n",
    "# Add combined legend in top-left corner\n",
    "plt.legend(handles=[l1, l2], loc='upper left', bbox_to_anchor=(0.05, 1), fontsize=13)\n",
    "\n",
    "plt.title('Interest Rate vs Consumer Spending (2000–2025)\\nWith Bold Labels and Dual Y-Axes')\n",
    "plt.grid(True)\n",
    "fig.tight_layout()\n",
    "plt.show()"
   ]
  },
  {
   "cell_type": "markdown",
   "id": "6921d768-a512-45c6-b9f9-1242f20508e5",
   "metadata": {},
   "source": [
    "📌 **Summary of Findings: Interest Rate vs. Consumer Spending (2000–2025)**\n",
    "\n",
    "🧠 **Initial Assumption**\n",
    "\n",
    "The initial assumption was:\n",
    "\n",
    "> “If interest rates increase, consumer spending will decrease, since borrowing becomes more expensive and saving is incentivized.”\n",
    "\n",
    "This is grounded in basic economic theory — higher interest rates typically discourage borrowing and consumer expenditure.\n",
    "\n",
    "---\n",
    "\n",
    "🔍 **Insights from the Data**\n",
    "\n",
    "From the dual-axis chart:\n",
    "- Overall, consumer spending steadily increased year-over-year, from  $6.8T  in   2000  to  over   $20T  by  2025, despite fluctuations in interest rates.\n",
    "- During **2008–2016**, interest rates were at historic lows (<1%), and PCE continued to grow — this aligns with expectations.\n",
    "- However, in recent years (**2022–2024**), interest rates rose significantly due to inflation-fighting measures, yet consumer spending continued to climb.\n",
    "\n",
    "👉 **Implication**: In certain periods, consumer spending is less sensitive to interest rates and may be driven by:\n",
    "  - Wage growth\n",
    "  - Stimulus checks (e.g., during COVID-19)\n",
    "  - Supply chain recovery\n",
    "  - Consumer confidence and wealth effect\n",
    "\n",
    "---\n",
    "\n",
    "📈 **Conclusion**\n",
    "- The relationship is not strictly inverse.\n",
    "- While economic theory holds for many timeframes, real-world consumer behavior is influenced by multiple macroeconomic factors beyond just interest rates.\n",
    "- PCE appears to have a resilient upward trend, suggesting long-term economic expansion, policy interventions, and inflation playing a role."
   ]
  },
  {
   "cell_type": "markdown",
   "id": "f01a9d1a-4f0c-4580-8c55-94429242ec70",
   "metadata": {},
   "source": [
    "### let’s explore now the relationship between interest rates and loan defaults to see if rising rates correlate with more defaults"
   ]
  },
  {
   "cell_type": "markdown",
   "id": "fb5730b7-6506-4cb8-a68e-e3b45a223fb2",
   "metadata": {},
   "source": [
    "#### Merging Interest Rate and Loan Default datasets"
   ]
  },
  {
   "cell_type": "code",
   "execution_count": 26,
   "id": "c54ce505-23e3-4807-9f54-3e5f615cf430",
   "metadata": {},
   "outputs": [
    {
     "data": {
      "text/html": [
       "<div>\n",
       "<style scoped>\n",
       "    .dataframe tbody tr th:only-of-type {\n",
       "        vertical-align: middle;\n",
       "    }\n",
       "\n",
       "    .dataframe tbody tr th {\n",
       "        vertical-align: top;\n",
       "    }\n",
       "\n",
       "    .dataframe thead th {\n",
       "        text-align: right;\n",
       "    }\n",
       "</style>\n",
       "<table border=\"1\" class=\"dataframe\">\n",
       "  <thead>\n",
       "    <tr style=\"text-align: right;\">\n",
       "      <th></th>\n",
       "      <th>observation_date</th>\n",
       "      <th>FEDFUNDS_new</th>\n",
       "      <th>Loan Default Rate</th>\n",
       "    </tr>\n",
       "  </thead>\n",
       "  <tbody>\n",
       "    <tr>\n",
       "      <th>0</th>\n",
       "      <td>2000-01-01</td>\n",
       "      <td>5.5%</td>\n",
       "      <td>2.1%</td>\n",
       "    </tr>\n",
       "    <tr>\n",
       "      <th>1</th>\n",
       "      <td>2000-04-01</td>\n",
       "      <td>6.0%</td>\n",
       "      <td>2.1%</td>\n",
       "    </tr>\n",
       "    <tr>\n",
       "      <th>2</th>\n",
       "      <td>2000-07-01</td>\n",
       "      <td>6.5%</td>\n",
       "      <td>2.2%</td>\n",
       "    </tr>\n",
       "    <tr>\n",
       "      <th>3</th>\n",
       "      <td>2000-10-01</td>\n",
       "      <td>6.5%</td>\n",
       "      <td>2.4%</td>\n",
       "    </tr>\n",
       "    <tr>\n",
       "      <th>4</th>\n",
       "      <td>2001-01-01</td>\n",
       "      <td>6.0%</td>\n",
       "      <td>2.4%</td>\n",
       "    </tr>\n",
       "  </tbody>\n",
       "</table>\n",
       "</div>"
      ],
      "text/plain": [
       "  observation_date FEDFUNDS_new Loan Default Rate\n",
       "0       2000-01-01         5.5%              2.1%\n",
       "1       2000-04-01         6.0%              2.1%\n",
       "2       2000-07-01         6.5%              2.2%\n",
       "3       2000-10-01         6.5%              2.4%\n",
       "4       2001-01-01         6.0%              2.4%"
      ]
     },
     "execution_count": 26,
     "metadata": {},
     "output_type": "execute_result"
    }
   ],
   "source": [
    "merged_df2=pd.merge(df,df2,on='observation_date',how='inner')\n",
    "\n",
    "merged_df2.head()"
   ]
  },
  {
   "cell_type": "markdown",
   "id": "4516bcb1-bf2d-498c-8a6f-55c770ad96da",
   "metadata": {},
   "source": [
    "#### preparing the numeric columns for analysis"
   ]
  },
  {
   "cell_type": "code",
   "execution_count": 27,
   "id": "e49fbf2b-f50f-4c5e-878b-7ce81ef1feeb",
   "metadata": {},
   "outputs": [
    {
     "data": {
      "text/html": [
       "<div>\n",
       "<style scoped>\n",
       "    .dataframe tbody tr th:only-of-type {\n",
       "        vertical-align: middle;\n",
       "    }\n",
       "\n",
       "    .dataframe tbody tr th {\n",
       "        vertical-align: top;\n",
       "    }\n",
       "\n",
       "    .dataframe thead th {\n",
       "        text-align: right;\n",
       "    }\n",
       "</style>\n",
       "<table border=\"1\" class=\"dataframe\">\n",
       "  <thead>\n",
       "    <tr style=\"text-align: right;\">\n",
       "      <th></th>\n",
       "      <th>observation_date</th>\n",
       "      <th>FEDFUNDS_new</th>\n",
       "      <th>Loan Default Rate</th>\n",
       "      <th>Interest Rate (%)</th>\n",
       "      <th>Loan Default (%)</th>\n",
       "    </tr>\n",
       "  </thead>\n",
       "  <tbody>\n",
       "    <tr>\n",
       "      <th>0</th>\n",
       "      <td>2000-01-01</td>\n",
       "      <td>5.5%</td>\n",
       "      <td>2.1%</td>\n",
       "      <td>5.5</td>\n",
       "      <td>2.1</td>\n",
       "    </tr>\n",
       "    <tr>\n",
       "      <th>1</th>\n",
       "      <td>2000-04-01</td>\n",
       "      <td>6.0%</td>\n",
       "      <td>2.1%</td>\n",
       "      <td>6.0</td>\n",
       "      <td>2.1</td>\n",
       "    </tr>\n",
       "    <tr>\n",
       "      <th>2</th>\n",
       "      <td>2000-07-01</td>\n",
       "      <td>6.5%</td>\n",
       "      <td>2.2%</td>\n",
       "      <td>6.5</td>\n",
       "      <td>2.2</td>\n",
       "    </tr>\n",
       "    <tr>\n",
       "      <th>3</th>\n",
       "      <td>2000-10-01</td>\n",
       "      <td>6.5%</td>\n",
       "      <td>2.4%</td>\n",
       "      <td>6.5</td>\n",
       "      <td>2.4</td>\n",
       "    </tr>\n",
       "    <tr>\n",
       "      <th>4</th>\n",
       "      <td>2001-01-01</td>\n",
       "      <td>6.0%</td>\n",
       "      <td>2.4%</td>\n",
       "      <td>6.0</td>\n",
       "      <td>2.4</td>\n",
       "    </tr>\n",
       "  </tbody>\n",
       "</table>\n",
       "</div>"
      ],
      "text/plain": [
       "  observation_date FEDFUNDS_new Loan Default Rate  Interest Rate (%)  \\\n",
       "0       2000-01-01         5.5%              2.1%                5.5   \n",
       "1       2000-04-01         6.0%              2.1%                6.0   \n",
       "2       2000-07-01         6.5%              2.2%                6.5   \n",
       "3       2000-10-01         6.5%              2.4%                6.5   \n",
       "4       2001-01-01         6.0%              2.4%                6.0   \n",
       "\n",
       "   Loan Default (%)  \n",
       "0               2.1  \n",
       "1               2.1  \n",
       "2               2.2  \n",
       "3               2.4  \n",
       "4               2.4  "
      ]
     },
     "execution_count": 27,
     "metadata": {},
     "output_type": "execute_result"
    }
   ],
   "source": [
    "merged_df2['Interest Rate (%)'] = merged_df2['FEDFUNDS_new'].str.rstrip('%').astype(float)\n",
    "merged_df2['Loan Default (%)'] = merged_df2['Loan Default Rate'].str.rstrip('%').astype(float)\n",
    "\n",
    "merged_df2.head()"
   ]
  },
  {
   "cell_type": "markdown",
   "id": "7a083e8f-dda0-4be3-8a64-11c02844735a",
   "metadata": {},
   "source": [
    "### Caluculating the correlation "
   ]
  },
  {
   "cell_type": "markdown",
   "id": "4dd8f6b5-aadb-49d5-9138-2e0e15f75864",
   "metadata": {},
   "source": [
    "#### We’ll compute the Pearson correlation coefficient to understand how closely interest rates and loan defaults are related.\n",
    "\n",
    "#### A value:\n",
    "#### \t•\tClose to +1 = strong positive correlation (as interest increases, so do defaults)\n",
    "#### \t•\tClose to 0 = no clear relationship\n",
    "#### \t•\tClose to -1 = strong negative correlation"
   ]
  },
  {
   "cell_type": "code",
   "execution_count": 28,
   "id": "5399c2bd-9ccf-4c75-bfa0-4b3ec20bcac3",
   "metadata": {},
   "outputs": [
    {
     "name": "stdout",
     "output_type": "stream",
     "text": [
      "Correlation between Interest Rate and Loan Default Rate: -0.43\n"
     ]
    }
   ],
   "source": [
    "correlation = merged_df2[['Interest Rate (%)', 'Loan Default (%)']].corr().iloc[0, 1]\n",
    "print(f\"Correlation between Interest Rate and Loan Default Rate: {correlation:.2f}\")"
   ]
  },
  {
   "cell_type": "markdown",
   "id": "c5471b64-b83f-45fc-9e7b-d092e34c7ef2",
   "metadata": {},
   "source": [
    "#### A correlation of -0.43 suggests a moderate negative relationship between interest rates and loan default rates.\n",
    "\n",
    ">  **What does it mean?**\n",
    "> - As interest rates increase, loan defaults tend to decrease slightly.\n",
    "> - This is counterintuitive, as we often expect higher borrowing costs to cause more defaults.\n",
    "> - Possible reasons:\n",
    ">   - Banks might lend more conservatively during high-rate periods.\n",
    ">   - Lag effects: defaults might rise after a delay.\n",
    ">   - Other macroeconomic variables (employment, inflation) could be influencing it."
   ]
  },
  {
   "cell_type": "code",
   "execution_count": 33,
   "id": "cdaf91c9-c3d8-41a0-8a9e-931e4fa54077",
   "metadata": {},
   "outputs": [
    {
     "data": {
      "image/png": "[encoded data removed]",
      "text/plain": [
       "<Figure size 1400x500 with 2 Axes>"
      ]
     },
     "metadata": {},
     "output_type": "display_data"
    }
   ],
   "source": [
    "# Step 1: Prepare yearly average from merged_df2\n",
    "merged_df2['Year'] = pd.to_datetime(merged_df2['observation_date']).dt.year\n",
    "yearly_avg2 = merged_df2.groupby('Year')[['Interest Rate (%)', 'Loan Default (%)']].mean().reset_index()\n",
    "\n",
    "# Step 2: Plot using dual axes\n",
    "fig, ax1 = plt.subplots(figsize=(14, 5))\n",
    "\n",
    "# Left Y-axis for Interest Rate\n",
    "color1 = 'tab:blue'\n",
    "ax1.set_xlabel('Year')\n",
    "ax1.set_ylabel('Interest Rate (%)', color=color1)\n",
    "l1, = ax1.plot(yearly_avg2['Year'], yearly_avg2['Interest Rate (%)'], color=color1, marker='o', label='Interest Rate (%)')\n",
    "ax1.tick_params(axis='y', labelcolor=color1)\n",
    "\n",
    "# Annotate every 2nd point\n",
    "for i in range(0, len(yearly_avg2), 2):\n",
    "    val = yearly_avg2['Interest Rate (%)'].iloc[i]\n",
    "    year = yearly_avg2['Year'].iloc[i]\n",
    "    ax1.text(year, val + 0.3, f\"{val:.1f}%\", color=color1, fontsize=10, fontweight='bold', ha='center')\n",
    "\n",
    "# Right Y-axis for Loan Defaults\n",
    "ax2 = ax1.twinx()\n",
    "color2 = 'tab:orange'\n",
    "ax2.set_ylabel('Loan Default Rate (%)', color=color2)\n",
    "l2, = ax2.plot(yearly_avg2['Year'], yearly_avg2['Loan Default (%)'], color=color2, marker='s', label='Loan Default Rate (%)')\n",
    "ax2.tick_params(axis='y', labelcolor=color2)\n",
    "\n",
    "# Annotate every 2nd point\n",
    "for i in range(0, len(yearly_avg2), 2):\n",
    "    val = yearly_avg2['Loan Default (%)'].iloc[i]\n",
    "    year = yearly_avg2['Year'].iloc[i]\n",
    "    ax2.text(year, val + 0.3, f\"{val:.1f}%\", color=color2, fontsize=10, fontweight='bold', ha='center')\n",
    "\n",
    "# Combine legend\n",
    "plt.legend(handles=[l1, l2], loc='upper left', bbox_to_anchor=(0.05, 1), fontsize=10)\n",
    "\n",
    "# Title & layout\n",
    "plt.title(\"Yearly Comparison: Interest Rate vs Loan Default Rate (Dual Axis)\", fontsize=14, fontweight='bold')\n",
    "plt.grid(True)\n",
    "fig.tight_layout()\n",
    "plt.show()"
   ]
  },
  {
   "cell_type": "markdown",
   "id": "89aa15f7-13c2-4560-b50f-3a2f3b6e7eeb",
   "metadata": {},
   "source": [
    "📌 **Summary of Findings: Interest Rate vs. Loan Default Rate (2000–2025)**\n",
    "\n",
    "🧠 **Initial Assumption**\n",
    "\n",
    "At the beginning of this analysis, the assumption was:\n",
    "\n",
    "> “If interest rates increase, then loan defaults will also increase — because higher borrowing costs make it harder for people to repay loans.”\n",
    "\n",
    "This assumption seems intuitive from a consumer behavior standpoint.\n",
    "\n",
    "---\n",
    "\n",
    "🔍 **What the Data Actually Shows**\n",
    "\n",
    "From the dual-axis trend chart:\n",
    "- There are several periods where this assumption does not hold true.\n",
    "- **2008–2010**: Interest rates dropped sharply (post-recession stimulus), but loan defaults spiked.  \n",
    "  👉 This suggests that macroeconomic shocks (like the housing crisis) influence defaults more than interest rates alone.\n",
    "- **2011–2019**: Interest rates stayed low, yet defaults declined gradually, showing signs of recovery.\n",
    "- **2022–2024**: Interest rates increased again due to inflationary pressures, but loan default rates stayed low.  \n",
    "  👉 This could mean improved borrower profiles, stricter lending standards, or post-pandemic financial resilience.\n",
    "\n",
    "---\n",
    "\n",
    "📈 **Conclusion**\n",
    "- There is not a direct linear relationship between interest rates and loan defaults.\n",
    "- Other factors like:\n",
    "  - Unemployment\n",
    "  - Global crises (e.g., 2008 crash, COVID-19)\n",
    "  - Lending policies\n",
    "  - Consumer sentiment  \n",
    "play a critical role in loan defaults, beyond just interest rate levels."
   ]
  },
  {
   "cell_type": "code",
   "execution_count": null,
   "id": "8ee4db96-0ea9-4fcb-b076-c9abb8013a6e",
   "metadata": {},
   "outputs": [],
   "source": []
  }
 ],
 "metadata": {
  "kernelspec": {
   "display_name": "Python 3 (ipykernel)",
   "language": "python",
   "name": "python3"
  },
  "language_info": {
   "codemirror_mode": {
    "name": "ipython",
    "version": 3
   },
   "file_extension": ".py",
   "mimetype": "text/x-python",
   "name": "python",
   "nbconvert_exporter": "python",
   "pygments_lexer": "ipython3",
   "version": "3.11.8"
  }
 },
 "nbformat": 4,
 "nbformat_minor": 5
}
